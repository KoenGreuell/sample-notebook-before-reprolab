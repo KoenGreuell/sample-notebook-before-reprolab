{
 "cells": [
  {
   "cell_type": "code",
   "execution_count": 1,
   "id": "a4e8c30112ab95e0",
   "metadata": {},
   "outputs": [
    {
     "name": "stdout",
     "output_type": "stream",
     "text": [
      "Requirement already satisfied: pandas in /home/koen-greuell/jupyter-reprolab/myenv/lib/python3.13/site-packages (2.3.1)\n",
      "Requirement already satisfied: numpy>=1.26.0 in /home/koen-greuell/jupyter-reprolab/myenv/lib/python3.13/site-packages (from pandas) (2.3.2)\n",
      "Requirement already satisfied: python-dateutil>=2.8.2 in /home/koen-greuell/jupyter-reprolab/myenv/lib/python3.13/site-packages (from pandas) (2.9.0.post0)\n",
      "Requirement already satisfied: pytz>=2020.1 in /home/koen-greuell/jupyter-reprolab/myenv/lib/python3.13/site-packages (from pandas) (2025.2)\n",
      "Requirement already satisfied: tzdata>=2022.7 in /home/koen-greuell/jupyter-reprolab/myenv/lib/python3.13/site-packages (from pandas) (2025.2)\n",
      "Requirement already satisfied: six>=1.5 in /home/koen-greuell/jupyter-reprolab/myenv/lib/python3.13/site-packages (from python-dateutil>=2.8.2->pandas) (1.17.0)\n",
      "Initial CSV data:\n",
      "                   title               author  publication_year\n",
      "0       The Great Gatsby  F. Scott Fitzgerald              1925\n",
      "1                   1984        George Orwell              1949\n",
      "2  To Kill a Mockingbird           Harper Lee              1960\n"
     ]
    }
   ],
   "source": [
    "# Cell 1: Loading CSV data from local file\n",
    "!pip install pandas\n",
    "\n",
    "import pandas as pd\n",
    "books_csv = pd.read_csv('books.csv')\n",
    "print(\"Initial CSV data:\")\n",
    "print(books_csv.head())"
   ]
  },
  {
   "cell_type": "code",
   "execution_count": null,
   "id": "7a3165224762c655",
   "metadata": {},
   "outputs": [],
   "source": [
    "# Cell 2: Set API key\n",
    "%env OPENLIBRARY_API_KEY=your api key"
   ]
  },
  {
   "cell_type": "code",
   "execution_count": null,
   "id": "de38dc7c5a8c1768",
   "metadata": {},
   "outputs": [],
   "source": [
    "# Cell 3: Getting API data\n",
    "!pip install requests\n",
    "import requests\n",
    "import pandas as pd\n",
    "import os\n",
    "\n",
    "def get_book_details(title):\n",
    "    OPENLIBRARY_API_KEY=os.environ['OPENLIBRARY_API_KEY']\n",
    "\n",
    "    url = f\"https://openlibrary.org/search.json?title={title}&apikey={OPENLIBRARY_API_KEY}\"\n",
    "    response = requests.get(url)\n",
    "    if response.status_code == 200:\n",
    "        data = response.json()\n",
    "        if data['docs']:\n",
    "            book = data['docs'][0]\n",
    "            return {\n",
    "                'isbn': book.get('isbn', ['N/A'])[0],\n",
    "                'page_count': book.get('number_of_pages_median', 0),\n",
    "                'first_publish': book.get('first_publish_year', None)\n",
    "            }\n",
    "    return {'isbn': 'N/A', 'page_count': 0, 'first_publish': None}\n",
    "\n",
    "api_data = books_csv['title'].apply(get_book_details)\n",
    "api_df = pd.DataFrame(api_data.tolist())\n",
    "api_df"
   ]
  },
  {
   "cell_type": "code",
   "execution_count": null,
   "id": "24ee175625024cc1",
   "metadata": {},
   "outputs": [],
   "source": [
    "# Cell 4: Create and track dictionary data\n",
    "book_categories = {\n",
    "    \"The Great Gatsby\": {\"genre\": \"Fiction\", \"rating\": 4.5, \"price\": 12.99},\n",
    "    \"1984\": {\"genre\": \"Dystopian\", \"rating\": 4.8, \"price\": 15.99},\n",
    "    \"To Kill a Mockingbird\": {\"genre\": \"Literary Fiction\", \"rating\": 4.7, \"price\": 14.99}\n",
    "}\n",
    "\n",
    "category_df = pd.DataFrame.from_dict(book_categories, orient='index')\n",
    "category_df.index.name = 'title'\n",
    "category_df = category_df.reset_index()\n",
    "category_df"
   ]
  },
  {
   "cell_type": "code",
   "execution_count": null,
   "id": "188f1ecde9221a67",
   "metadata": {},
   "outputs": [],
   "source": [
    "# Cell 5: Combine datasets and perform transformations\n",
    "from datetime import datetime\n",
    "\n",
    "combined_df = pd.concat([books_csv, api_df], axis=1)\n",
    "final_df = pd.merge(combined_df, category_df, on='title', how='left')\n",
    "\n",
    "current_year = datetime.now().year\n",
    "final_df['book_age'] = current_year - final_df['publication_year']\n",
    "final_df['price_per_page'] = final_df['price'] / final_df['page_count'].replace(0, 1)\n",
    "\n",
    "def rating_category(rating):\n",
    "    if rating >= 4.5:\n",
    "        return 'Excellent'\n",
    "    elif rating >= 4.0:\n",
    "        return 'Good'\n",
    "    else:\n",
    "        return 'Average'\n",
    "\n",
    "final_df['rating_category'] = final_df['rating'].apply(rating_category)"
   ]
  },
  {
   "cell_type": "code",
   "execution_count": null,
   "id": "98dd3a3f1e015e78",
   "metadata": {},
   "outputs": [],
   "source": [
    "# Cell 6: Visualize results\n",
    "genre_summary = final_df.groupby('genre').agg({\n",
    "    'rating': 'mean',\n",
    "    'price': 'mean',\n",
    "    'page_count': 'mean'\n",
    "}).round(2)\n",
    "!pip install matplotlib\n",
    "import matplotlib.pyplot as plt\n",
    "\n",
    "plt.figure(figsize=(10, 6))\n",
    "final_df.plot(kind='scatter', x='book_age', y='price', s=final_df['rating']*100, alpha=0.5)\n",
    "plt.title('Book Age vs Price (size = rating)')\n",
    "plt.xlabel('Book Age (years)')\n",
    "plt.ylabel('Price ($)')\n",
    "plt.show()"
   ]
  },
  {
   "cell_type": "code",
   "execution_count": null,
   "id": "17f8806b-edde-47c2-a1d5-61e88c5a27c1",
   "metadata": {},
   "outputs": [
    {
     "name": "stderr",
     "output_type": "stream",
     "text": [
      "2025-08-22 17:25:25 - INFO - Starting experiment process\n",
      "2025-08-22 17:25:25 - INFO - Step 1: Saving all notebooks\n",
      "2025-08-22 17:25:25 - INFO - Attempting to save all Jupyter notebooks...\n",
      "2025-08-22 17:25:25 - INFO - ipylab save command executed successfully\n",
      "2025-08-22 17:25:25 - INFO - nbformat processing completed for 2 notebooks\n"
     ]
    }
   ],
   "source": [
    "from reprolab.experiment import start_experiment\n",
    "start_experiment()"
   ]
  },
  {
   "cell_type": "code",
   "execution_count": 4,
   "id": "7dcd16d8-7549-4c2e-ad40-c71830202fb0",
   "metadata": {},
   "outputs": [
    {
     "name": "stderr",
     "output_type": "stream",
     "text": [
      "2025-08-22 17:12:44 - INFO - Ending experiment process\n",
      "2025-08-22 17:12:44 - INFO - Step 1: Saving all notebooks\n",
      "2025-08-22 17:12:44 - INFO - Attempting to save all Jupyter notebooks...\n",
      "2025-08-22 17:12:44 - INFO - ipylab save command executed successfully\n",
      "2025-08-22 17:12:44 - INFO - nbformat processing completed for 2 notebooks\n",
      "2025-08-22 17:12:45 - INFO - Jupyter save commands executed successfully\n",
      "2025-08-22 17:12:45 - INFO - All save methods completed\n",
      "2025-08-22 17:12:45 - INFO - Step 2: Determining next tag name\n",
      "2025-08-22 17:12:45 - INFO - Determining next tag name\n",
      "2025-08-22 17:12:45 - INFO - Fetching all tags from remote repositories\n",
      "2025-08-22 17:12:45 - INFO - Found 0 tags: []\n",
      "2025-08-22 17:12:45 - INFO - No existing tags found, using initial tag: v1.0.0\n",
      "2025-08-22 17:12:45 - INFO - Step 3: Committing with message: 'Project state after running experiment v1.0.0'\n",
      "2025-08-22 17:12:45 - INFO - Starting commit process with message: 'Project state after running experiment v1.0.0'\n",
      "2025-08-22 17:12:45 - INFO - Adding all files to staging area\n",
      "2025-08-22 17:12:45 - INFO - Starting process to add all files to git staging area\n",
      "2025-08-22 17:12:45 - INFO - Checking git status for all files\n",
      "2025-08-22 17:12:45 - INFO - Found 0 untracked files\n",
      "2025-08-22 17:12:45 - INFO - Found 0 modified files\n",
      "2025-08-22 17:12:45 - INFO - Found 0 deleted files\n",
      "2025-08-22 17:12:45 - INFO - No changes detected, but proceeding with add anyway\n",
      "2025-08-22 17:12:45 - INFO - Adding all files to git staging\n",
      "2025-08-22 17:12:45 - INFO - Successfully added all files to staging\n",
      "2025-08-22 17:12:45 - INFO - Checking for staged changes\n",
      "2025-08-22 17:12:45 - INFO - Staged 1 files for commit\n",
      "2025-08-22 17:12:45 - INFO - Creating commit with message: 'Project state after running experiment v1.0.0'\n",
      "2025-08-22 17:12:45 - INFO - Successfully committed: Project state after running experiment v1.0.0\n",
      "2025-08-22 17:12:45 - INFO - Step 4: Creating tag: v1.0.0\n",
      "2025-08-22 17:12:45 - INFO - Successfully created tag: v1.0.0\n",
      "2025-08-22 17:12:45 - INFO - Step 5: Pushing tag to remote: v1.0.0\n",
      "2025-08-22 17:12:46 - ERROR - Error creating or pushing tag: Command '['git', 'push', 'origin', 'v1.0.0']' returned non-zero exit status 128.\n",
      "2025-08-22 17:12:46 - ERROR - Command output: \n",
      "2025-08-22 17:12:46 - ERROR - Command error: fatal: could not read Username for 'https://github.com': No such device or address\n",
      "\n"
     ]
    },
    {
     "data": {
      "text/plain": [
       "''"
      ]
     },
     "execution_count": 4,
     "metadata": {},
     "output_type": "execute_result"
    }
   ],
   "source": [
    "from reprolab.experiment import end_experiment\n",
    "end_experiment()"
   ]
  },
  {
   "cell_type": "code",
   "execution_count": null,
   "id": "1709e583-0c0f-4b8f-aa9e-1299f0451067",
   "metadata": {},
   "outputs": [],
   "source": [
    "from reprolab.environment import freeze_venv_dependencies\n",
    "freeze_venv_dependencies('my_venv')"
   ]
  },
  {
   "cell_type": "code",
   "execution_count": 2,
   "id": "f75e9c12-71b0-4272-a979-f23ad3d9cf89",
   "metadata": {},
   "outputs": [
    {
     "data": {
      "text/plain": [
       "[]"
      ]
     },
     "execution_count": 2,
     "metadata": {},
     "output_type": "execute_result"
    }
   ],
   "source": [
    "from reprolab.experiment import list_and_sort_git_tags\n",
    "list_and_sort_git_tags()\n",
    "# Pick your git tag, to download the reproducability package"
   ]
  },
  {
   "cell_type": "code",
   "execution_count": null,
   "id": "2c8184c1-b48c-42c8-825a-907f1941d637",
   "metadata": {},
   "outputs": [],
   "source": [
    "from reprolab.experiment import download_reproducability_package\n",
    "download_reproducability_package('<git_tag>')"
   ]
  }
 ],
 "metadata": {
  "kernelspec": {
   "display_name": "Python 3 (ipykernel)",
   "language": "python",
   "name": "python3"
  },
  "language_info": {
   "codemirror_mode": {
    "name": "ipython",
    "version": 3
   },
   "file_extension": ".py",
   "mimetype": "text/x-python",
   "name": "python",
   "nbconvert_exporter": "python",
   "pygments_lexer": "ipython3",
   "version": "3.13.6"
  }
 },
 "nbformat": 4,
 "nbformat_minor": 5
}
